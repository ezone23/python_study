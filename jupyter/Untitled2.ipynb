{
 "cells": [
  {
   "cell_type": "code",
   "execution_count": 14,
   "metadata": {},
   "outputs": [],
   "source": [
    "def linear_search(element, some_list):\n",
    "    # 코드를 작성하세요.\n",
    "    for i in range(len(some_list)):\n",
    "        if some_list[i] == element:\n",
    "            return i\n",
    "    return None"
   ]
  },
  {
   "cell_type": "code",
   "execution_count": 15,
   "metadata": {},
   "outputs": [
    {
     "name": "stdout",
     "output_type": "stream",
     "text": [
      "0\n",
      "None\n",
      "2\n",
      "1\n",
      "4\n"
     ]
    }
   ],
   "source": [
    "print(linear_search(2, [2, 3, 5, 7, 11]))\n",
    "print(linear_search(0, [2, 3, 5, 7, 11]))\n",
    "print(linear_search(5, [2, 3, 5, 7, 11]))\n",
    "print(linear_search(3, [2, 3, 5, 7, 11]))\n",
    "print(linear_search(11, [2, 3, 5, 7, 11]))"
   ]
  },
  {
   "cell_type": "code",
   "execution_count": null,
   "metadata": {},
   "outputs": [],
   "source": []
  },
  {
   "cell_type": "code",
   "execution_count": null,
   "metadata": {},
   "outputs": [],
   "source": []
  }
 ],
 "metadata": {
  "kernelspec": {
   "display_name": "Python 3",
   "language": "python",
   "name": "python3"
  },
  "language_info": {
   "codemirror_mode": {
    "name": "ipython",
    "version": 3
   },
   "file_extension": ".py",
   "mimetype": "text/x-python",
   "name": "python",
   "nbconvert_exporter": "python",
   "pygments_lexer": "ipython3",
   "version": "3.8.5"
  }
 },
 "nbformat": 4,
 "nbformat_minor": 4
}
