{
 "cells": [
  {
   "cell_type": "markdown",
   "id": "0ce4a25d",
   "metadata": {},
   "source": [
    "# 기본 numpy 사용법"
   ]
  },
  {
   "cell_type": "code",
   "execution_count": 1,
   "id": "3bd12201",
   "metadata": {},
   "outputs": [],
   "source": [
    "import numpy as np"
   ]
  },
  {
   "cell_type": "code",
   "execution_count": 3,
   "id": "767d6b96",
   "metadata": {},
   "outputs": [
    {
     "data": {
      "text/plain": [
       "array([[1, 2, 3],\n",
       "       [4, 5, 6],\n",
       "       [7, 8, 9]])"
      ]
     },
     "execution_count": 3,
     "metadata": {},
     "output_type": "execute_result"
    }
   ],
   "source": [
    "A = np.array([\n",
    "    [1,2,3],\n",
    "    [4,5,6],\n",
    "    [7,8,9]\n",
    "])\n",
    "A"
   ]
  },
  {
   "cell_type": "code",
   "execution_count": 8,
   "id": "b63ccc22",
   "metadata": {},
   "outputs": [
    {
     "data": {
      "text/plain": [
       "array([[0, 1],\n",
       "       [2, 3]])"
      ]
     },
     "execution_count": 8,
     "metadata": {},
     "output_type": "execute_result"
    }
   ],
   "source": [
    "B = np.array([\n",
    "    [0,1],\n",
    "    [2,3]\n",
    "])\n",
    "B"
   ]
  },
  {
   "cell_type": "code",
   "execution_count": 9,
   "id": "833ffc9e",
   "metadata": {},
   "outputs": [
    {
     "data": {
      "text/plain": [
       "array([[0.08900715, 0.97499628, 0.92014735, 0.60687007, 0.32777492],\n",
       "       [0.24601066, 0.3450862 , 0.00155207, 0.26587554, 0.57724925],\n",
       "       [0.22520722, 0.9494536 , 0.52999214, 0.96231831, 0.97549759]])"
      ]
     },
     "execution_count": 9,
     "metadata": {},
     "output_type": "execute_result"
    }
   ],
   "source": [
    "C = np.random.rand(3,5)\n",
    "C"
   ]
  },
  {
   "cell_type": "code",
   "execution_count": 10,
   "id": "fb2716a6",
   "metadata": {},
   "outputs": [
    {
     "data": {
      "text/plain": [
       "array([[0., 0., 0., 0.],\n",
       "       [0., 0., 0., 0.]])"
      ]
     },
     "execution_count": 10,
     "metadata": {},
     "output_type": "execute_result"
    }
   ],
   "source": [
    "D = np.zeros((2,4)) #괄호 두개써야함!!\n",
    "D"
   ]
  },
  {
   "cell_type": "code",
   "execution_count": 11,
   "id": "53bd520a",
   "metadata": {},
   "outputs": [
    {
     "data": {
      "text/plain": [
       "array([[1, 2, 3],\n",
       "       [4, 5, 6],\n",
       "       [7, 8, 9]])"
      ]
     },
     "execution_count": 11,
     "metadata": {},
     "output_type": "execute_result"
    }
   ],
   "source": [
    "A"
   ]
  },
  {
   "cell_type": "code",
   "execution_count": 13,
   "id": "40928098",
   "metadata": {},
   "outputs": [
    {
     "data": {
      "text/plain": [
       "3"
      ]
     },
     "execution_count": 13,
     "metadata": {},
     "output_type": "execute_result"
    }
   ],
   "source": [
    "A[0][2] #indexing은 0부터!!"
   ]
  },
  {
   "cell_type": "code",
   "execution_count": 14,
   "id": "b340a6ad",
   "metadata": {},
   "outputs": [
    {
     "data": {
      "text/plain": [
       "array([[0.10874036, 0.00133393, 0.94842064],\n",
       "       [0.76855366, 0.18309706, 0.72119271],\n",
       "       [0.45060964, 0.81977233, 0.71095085]])"
      ]
     },
     "execution_count": 14,
     "metadata": {},
     "output_type": "execute_result"
    }
   ],
   "source": [
    "E = np.random.rand(3,3)\n",
    "E"
   ]
  },
  {
   "cell_type": "code",
   "execution_count": 15,
   "id": "217d3c3b",
   "metadata": {},
   "outputs": [
    {
     "data": {
      "text/plain": [
       "array([[1.10874036, 2.00133393, 3.94842064],\n",
       "       [4.76855366, 5.18309706, 6.72119271],\n",
       "       [7.45060964, 8.81977233, 9.71095085]])"
      ]
     },
     "execution_count": 15,
     "metadata": {},
     "output_type": "execute_result"
    }
   ],
   "source": [
    "A+E"
   ]
  },
  {
   "cell_type": "code",
   "execution_count": 16,
   "id": "d7974d4c",
   "metadata": {},
   "outputs": [
    {
     "data": {
      "text/plain": [
       "array([[ 5, 10, 15],\n",
       "       [20, 25, 30],\n",
       "       [35, 40, 45]])"
      ]
     },
     "execution_count": 16,
     "metadata": {},
     "output_type": "execute_result"
    }
   ],
   "source": [
    "5*A"
   ]
  },
  {
   "cell_type": "code",
   "execution_count": 18,
   "id": "308b1546",
   "metadata": {},
   "outputs": [
    {
     "data": {
      "text/plain": [
       "array([[ 2.99767661,  2.82684503,  4.52365861],\n",
       "       [ 6.98138759,  5.83945498, 11.6653512 ],\n",
       "       [10.96509857,  8.85206493, 18.8070438 ]])"
      ]
     },
     "execution_count": 18,
     "metadata": {},
     "output_type": "execute_result"
    }
   ],
   "source": [
    "np.dot(A,E) #내적곱"
   ]
  },
  {
   "cell_type": "code",
   "execution_count": 19,
   "id": "c9c0d712",
   "metadata": {},
   "outputs": [
    {
     "data": {
      "text/plain": [
       "array([[ 2.99767661,  2.82684503,  4.52365861],\n",
       "       [ 6.98138759,  5.83945498, 11.6653512 ],\n",
       "       [10.96509857,  8.85206493, 18.8070438 ]])"
      ]
     },
     "execution_count": 19,
     "metadata": {},
     "output_type": "execute_result"
    }
   ],
   "source": [
    "A@E #내적곱"
   ]
  },
  {
   "cell_type": "code",
   "execution_count": 22,
   "id": "343a1966",
   "metadata": {},
   "outputs": [
    {
     "data": {
      "text/plain": [
       "array([[ 4.21515732,  4.82951289,  9.42049989],\n",
       "       [12.51849491, 11.2056491 , 19.10773662],\n",
       "       [18.86631786, 18.49160959, 29.2289455 ]])"
      ]
     },
     "execution_count": 22,
     "metadata": {},
     "output_type": "execute_result"
    }
   ],
   "source": [
    "A@E + (A+2*E) #곱하기 부터, 괄호 먼저"
   ]
  },
  {
   "cell_type": "code",
   "execution_count": 27,
   "id": "7f5dd643",
   "metadata": {},
   "outputs": [
    {
     "data": {
      "text/plain": [
       "array([[1, 2, 3],\n",
       "       [4, 5, 6],\n",
       "       [7, 8, 9]])"
      ]
     },
     "execution_count": 27,
     "metadata": {},
     "output_type": "execute_result"
    }
   ],
   "source": [
    "A_transpose = np.transpose(A)\n",
    "A"
   ]
  },
  {
   "cell_type": "code",
   "execution_count": 28,
   "id": "4231fae9",
   "metadata": {},
   "outputs": [
    {
     "data": {
      "text/plain": [
       "array([[1, 4, 7],\n",
       "       [2, 5, 8],\n",
       "       [3, 6, 9]])"
      ]
     },
     "execution_count": 28,
     "metadata": {},
     "output_type": "execute_result"
    }
   ],
   "source": [
    "A_transpose"
   ]
  },
  {
   "cell_type": "code",
   "execution_count": 29,
   "id": "a0ec793a",
   "metadata": {},
   "outputs": [
    {
     "data": {
      "text/plain": [
       "array([[1, 4, 7],\n",
       "       [2, 5, 8],\n",
       "       [3, 6, 9]])"
      ]
     },
     "execution_count": 29,
     "metadata": {},
     "output_type": "execute_result"
    }
   ],
   "source": [
    "A_transpose = A.T\n",
    "A_transpose"
   ]
  },
  {
   "cell_type": "code",
   "execution_count": 31,
   "id": "e42286ab",
   "metadata": {},
   "outputs": [
    {
     "data": {
      "text/plain": [
       "array([[1., 0., 0.],\n",
       "       [0., 1., 0.],\n",
       "       [0., 0., 1.]])"
      ]
     },
     "execution_count": 31,
     "metadata": {},
     "output_type": "execute_result"
    }
   ],
   "source": [
    "I = np.identity(3)\n",
    "I"
   ]
  },
  {
   "cell_type": "code",
   "execution_count": 32,
   "id": "b7455a6e",
   "metadata": {},
   "outputs": [
    {
     "data": {
      "text/plain": [
       "array([[1., 2., 3.],\n",
       "       [4., 5., 6.],\n",
       "       [7., 8., 9.]])"
      ]
     },
     "execution_count": 32,
     "metadata": {},
     "output_type": "execute_result"
    }
   ],
   "source": [
    "A@I"
   ]
  },
  {
   "cell_type": "code",
   "execution_count": 33,
   "id": "1f23c2c4",
   "metadata": {},
   "outputs": [
    {
     "data": {
      "text/plain": [
       "array([[-6.38888889e-01, -1.66666667e-01,  3.05555556e-01],\n",
       "       [-5.55555556e-02,  1.38777878e-16,  5.55555556e-02],\n",
       "       [ 5.27777778e-01,  1.66666667e-01, -1.94444444e-01]])"
      ]
     },
     "execution_count": 33,
     "metadata": {},
     "output_type": "execute_result"
    }
   ],
   "source": [
    "A_inverse = np.linalg.pinv(A) \n",
    "#linear algegra p inverse; 역행렬 없는 경우도 가장 비슷한 행렬 리턴해줌\n",
    "A_inverse"
   ]
  },
  {
   "cell_type": "code",
   "execution_count": 38,
   "id": "316f6a6f",
   "metadata": {},
   "outputs": [
    {
     "data": {
      "text/plain": [
       "array([[ 0.83333333,  0.33333333, -0.16666667],\n",
       "       [ 0.33333333,  0.33333333,  0.33333333],\n",
       "       [-0.16666667,  0.33333333,  0.83333333]])"
      ]
     },
     "execution_count": 38,
     "metadata": {},
     "output_type": "execute_result"
    }
   ],
   "source": [
    "A@A_inverse"
   ]
  },
  {
   "cell_type": "code",
   "execution_count": 36,
   "id": "57078a5a",
   "metadata": {},
   "outputs": [],
   "source": [
    "ab = np.array([[1,-1,2],\n",
    "             [3,2,2],\n",
    "             [4,1,2]])\n",
    "ab_i = np.linalg.pinv(ab)"
   ]
  },
  {
   "cell_type": "code",
   "execution_count": 37,
   "id": "cf154840",
   "metadata": {},
   "outputs": [
    {
     "data": {
      "text/plain": [
       "array([[ 1.00000000e+00,  6.66133815e-16, -1.11022302e-15],\n",
       "       [-2.22044605e-16,  1.00000000e+00, -6.66133815e-16],\n",
       "       [ 0.00000000e+00,  2.22044605e-16,  1.00000000e+00]])"
      ]
     },
     "execution_count": 37,
     "metadata": {},
     "output_type": "execute_result"
    }
   ],
   "source": [
    "ab @ab_i"
   ]
  },
  {
   "cell_type": "code",
   "execution_count": 39,
   "id": "1fe5fb5f",
   "metadata": {},
   "outputs": [],
   "source": [
    "C_inverse = np.linalg.pinv(C)"
   ]
  },
  {
   "cell_type": "code",
   "execution_count": 40,
   "id": "abca8f3f",
   "metadata": {},
   "outputs": [
    {
     "data": {
      "text/plain": [
       "array([[ 0.85752696,  2.74258346, -1.6323689 ],\n",
       "       [ 1.0789051 ,  1.57581195, -1.11471571],\n",
       "       [ 0.90753932, -0.23546574, -0.42043615],\n",
       "       [-1.38479373, -3.15858262,  2.57112695],\n",
       "       [-0.37505776,  1.07693445,  0.17896243]])"
      ]
     },
     "execution_count": 40,
     "metadata": {},
     "output_type": "execute_result"
    }
   ],
   "source": [
    "C_inverse"
   ]
  },
  {
   "cell_type": "code",
   "execution_count": 41,
   "id": "26e27e0b",
   "metadata": {},
   "outputs": [
    {
     "data": {
      "text/plain": [
       "array([[ 1.00000000e+00, -7.86977911e-16, -1.07942731e-16],\n",
       "       [-1.48150193e-16,  1.00000000e+00,  1.09250935e-16],\n",
       "       [-4.29871596e-16, -5.02811855e-16,  1.00000000e+00]])"
      ]
     },
     "execution_count": 41,
     "metadata": {},
     "output_type": "execute_result"
    }
   ],
   "source": [
    "C@C_inverse"
   ]
  },
  {
   "cell_type": "code",
   "execution_count": null,
   "id": "3fb3fc8f",
   "metadata": {},
   "outputs": [],
   "source": []
  }
 ],
 "metadata": {
  "kernelspec": {
   "display_name": "Python 3",
   "language": "python",
   "name": "python3"
  },
  "language_info": {
   "codemirror_mode": {
    "name": "ipython",
    "version": 3
   },
   "file_extension": ".py",
   "mimetype": "text/x-python",
   "name": "python",
   "nbconvert_exporter": "python",
   "pygments_lexer": "ipython3",
   "version": "3.8.8"
  }
 },
 "nbformat": 4,
 "nbformat_minor": 5
}
