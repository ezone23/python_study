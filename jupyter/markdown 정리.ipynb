{
 "cells": [
  {
   "cell_type": "markdown",
   "metadata": {},
   "source": [
    "# 가장 큰 제목\n",
    "## 두번째 큰 제목\n",
    "### 세번째 큰 제목\n",
    "\n",
    "그냥도 작성 가능 .markdown 으로"
   ]
  },
  {
   "cell_type": "markdown",
   "metadata": {},
   "source": [
    "**두껍게** *날려서*\n"
   ]
  },
  {
   "cell_type": "markdown",
   "metadata": {},
   "source": [
    "리스트\n",
    "* 리스트1\n",
    "* 리스트 2\n",
    "* 리스트 3\n",
    "별 두개 안에 쓰면 두껍게 별 한개 안에 쓰면 날려서 별 한개 쓰고 띄어쓰기하고 쓰면 리스트 "
   ]
  },
  {
   "cell_type": "markdown",
   "metadata": {},
   "source": [
    "```python\n",
    "print('hello world')\n",
    "for i in range(10):\n",
    "    print(i)\n",
    "```"
   ]
  },
  {
   "cell_type": "markdown",
   "metadata": {},
   "source": [
    "값을 출력할땐 print ``print('5')``"
   ]
  },
  {
   "cell_type": "markdown",
   "metadata": {},
   "source": [
    "구분선 위\n",
    "---\n",
    "구분선 아래"
   ]
  },
  {
   "cell_type": "markdown",
   "metadata": {},
   "source": [
    "구분선 위\n",
    "\n",
    "---\n",
    "\n",
    "구분선 아래"
   ]
  },
  {
   "cell_type": "code",
   "execution_count": null,
   "metadata": {},
   "outputs": [],
   "source": []
  }
 ],
 "metadata": {
  "kernelspec": {
   "display_name": "Python 3",
   "language": "python",
   "name": "python3"
  },
  "language_info": {
   "codemirror_mode": {
    "name": "ipython",
    "version": 3
   },
   "file_extension": ".py",
   "mimetype": "text/x-python",
   "name": "python",
   "nbconvert_exporter": "python",
   "pygments_lexer": "ipython3",
   "version": "3.8.8"
  }
 },
 "nbformat": 4,
 "nbformat_minor": 4
}
